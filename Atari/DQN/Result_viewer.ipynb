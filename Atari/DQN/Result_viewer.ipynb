{
 "cells": [
  {
   "cell_type": "code",
   "execution_count": null,
   "metadata": {},
   "outputs": [],
   "source": [
    "import numpy as np"
   ]
  },
  {
   "cell_type": "code",
   "execution_count": null,
   "metadata": {},
   "outputs": [],
   "source": [
    "path = 'figures/[]/'"
   ]
  },
  {
   "cell_type": "code",
   "execution_count": null,
   "metadata": {},
   "outputs": [],
   "source": [
    "nominal = np.load(path+'nominal.npy')\n",
    "print(np.mean(nominal))\n",
    "sem = np.std(nominal)/np.sqrt(np.shape(nominal))\n",
    "print(sem)"
   ]
  },
  {
   "cell_type": "code",
   "execution_count": null,
   "metadata": {},
   "outputs": [],
   "source": [
    "eps = np.load(path + 'fgsm_epsilons.npy')\n",
    "print(eps)\n",
    "vals = np.load(path + 'fgsm.npy')\n",
    "print(np.mean(vals, axis=1))\n",
    "sem = np.std(vals, axis=1)/np.sqrt(np.shape(vals)[1])\n",
    "print(sem)"
   ]
  },
  {
   "cell_type": "code",
   "execution_count": null,
   "metadata": {},
   "outputs": [],
   "source": [
    "eps = np.load(path + 'pgd_epsilons.npy')\n",
    "print(eps)\n",
    "vals = np.load(path + 'pgd.npy')\n",
    "print(np.mean(vals, axis=1))\n",
    "sem = np.std(vals, axis=1)/np.sqrt(np.shape(vals)[1])\n",
    "print(sem)"
   ]
  },
  {
   "cell_type": "code",
   "execution_count": null,
   "metadata": {},
   "outputs": [],
   "source": [
    "eps = np.load(path + 'greedy_wc_epsilons.npy')\n",
    "print(eps)\n",
    "vals = np.load(path + 'greedy_wc.npy')\n",
    "print(np.mean(vals, axis=1))\n",
    "sem = np.std(vals, axis=1)/np.sqrt(np.shape(vals)[1])\n",
    "print(sem)"
   ]
  },
  {
   "cell_type": "code",
   "execution_count": null,
   "metadata": {},
   "outputs": [],
   "source": [
    "eps = np.load(path + 'acr_epsilons.npy')\n",
    "print(eps)\n",
    "vals = np.load(path + 'acr.npy')\n",
    "print(np.mean(vals, axis=1))\n",
    "sem = np.std(vals, axis=1)/np.sqrt(np.shape(vals)[1])\n",
    "print(sem)"
   ]
  },
  {
   "cell_type": "code",
   "execution_count": null,
   "metadata": {},
   "outputs": [],
   "source": [
    "eps = np.load(path + 'action_pert_epsilons.npy')\n",
    "print(eps)\n",
    "vals = np.load(path + 'action_pert.npy')\n",
    "print(np.mean(vals, axis=1))\n",
    "sem = np.std(vals, axis=1)/np.sqrt(np.shape(vals)[1])\n",
    "print(sem)"
   ]
  },
  {
   "cell_type": "code",
   "execution_count": null,
   "metadata": {},
   "outputs": [],
   "source": [
    "class Test():\n",
    "    def __init__(self, exp_epsilon_decay, decay_zero, exp_epsilon_end, total_frames):\n",
    "        self.exp_epsilon_decay = exp_epsilon_decay\n",
    "        self.decay_zero = decay_zero\n",
    "        self.exp_epsilon_end = exp_epsilon_end\n",
    "        self.total_frames = total_frames\n",
    "\n",
    "epsilon_start = 1.0\n",
    "args = Test(500000, True, 0.05, 6000000)\n",
    "\n",
    "def epsilon_by_frame(frame_idx):\n",
    "    if frame_idx <= args.exp_epsilon_decay or not args.decay_zero:\n",
    "        return (args.exp_epsilon_end + max(0, 1-frame_idx/args.exp_epsilon_decay)*(epsilon_start-args.exp_epsilon_end))\n",
    "    else:\n",
    "        return max(0, (args.total_frames-frame_idx) / (args.total_frames-args.exp_epsilon_decay))*(args.exp_epsilon_end)"
   ]
  },
  {
   "cell_type": "code",
   "execution_count": null,
   "metadata": {},
   "outputs": [],
   "source": [
    "#from matplotlib import pyplot as plt\n",
    "\n",
    "#xs = []\n",
    "#ys = []\n",
    "#for i in range(6000000):\n",
    "#    xs.append(i)\n",
    "#    ys.append(epsilon_by_frame(i))\n",
    "#plt.plot(xs, ys)"
   ]
  },
  {
   "cell_type": "code",
   "execution_count": null,
   "metadata": {},
   "outputs": [],
   "source": [
    "from matplotlib import pyplot as plt\n",
    "\n",
    "sa_dqn_errors = np.load('figures/BankHeist-convex/q_error_1.npy')\n",
    "radial_errors = np.load('figures/BankHeist_robust/q_error_1.npy')\n",
    "plt.plot(sa_dqn_errors[:], label='SA-DQN')\n",
    "plt.plot(radial_errors[:], label='RADIAL-DQN')\n",
    "plt.plot([0]*len(radial_errors[:]))\n",
    "plt.ylabel('Q-value error')\n",
    "plt.xlabel('Step')\n",
    "plt.legend()\n",
    "\n"
   ]
  },
  {
   "cell_type": "code",
   "execution_count": null,
   "metadata": {},
   "outputs": [],
   "source": []
  }
 ],
 "metadata": {
  "kernelspec": {
   "display_name": "Python 3",
   "language": "python",
   "name": "python3"
  },
  "language_info": {
   "codemirror_mode": {
    "name": "ipython",
    "version": 3
   },
   "file_extension": ".py",
   "mimetype": "text/x-python",
   "name": "python",
   "nbconvert_exporter": "python",
   "pygments_lexer": "ipython3",
   "version": "3.8.5"
  }
 },
 "nbformat": 4,
 "nbformat_minor": 4
}
