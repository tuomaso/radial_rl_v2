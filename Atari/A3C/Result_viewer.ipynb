{
 "cells": [
  {
   "cell_type": "code",
   "execution_count": 1,
   "metadata": {},
   "outputs": [],
   "source": [
    "import numpy as np"
   ]
  },
  {
   "cell_type": "code",
   "execution_count": 2,
   "metadata": {},
   "outputs": [],
   "source": [
    "path = 'figures/BankHeistNoFrameskip-v4_robust/'"
   ]
  },
  {
   "cell_type": "code",
   "execution_count": 3,
   "metadata": {},
   "outputs": [
    {
     "name": "stdout",
     "output_type": "stream",
     "text": [
      "852.0\n",
      "[7.33484833]\n"
     ]
    }
   ],
   "source": [
    "nominal = np.load(path+'nominal.npy')\n",
    "print(np.mean(nominal))\n",
    "sem = np.std(nominal)/np.sqrt(np.shape(nominal))\n",
    "print(sem)"
   ]
  },
  {
   "cell_type": "code",
   "execution_count": 4,
   "metadata": {},
   "outputs": [
    {
     "name": "stdout",
     "output_type": "stream",
     "text": [
      "[0.00117647 0.00392157 0.01176471 0.03137255]\n",
      "[846.  863.5 854.  502.5]\n",
      "[ 3.63318042  9.59882805  8.0746517  61.91879763]\n"
     ]
    }
   ],
   "source": [
    "eps = np.load(path + 'fgsm_epsilons.npy')\n",
    "print(eps)\n",
    "vals = np.load(path + 'fgsm.npy')\n",
    "print(np.mean(vals, axis=1))\n",
    "sem = np.std(vals, axis=1)/np.sqrt(np.shape(vals)[1])\n",
    "print(sem)"
   ]
  },
  {
   "cell_type": "code",
   "execution_count": 5,
   "metadata": {},
   "outputs": [
    {
     "name": "stdout",
     "output_type": "stream",
     "text": [
      "[0.00117647 0.00392157 0.01176471 0.03137255]\n",
      "[855. 848. 827.   4.]\n",
      "[7.29725976 3.84707681 6.00416522 1.78885438]\n"
     ]
    }
   ],
   "source": [
    "eps = np.load(path + 'pgd_epsilons.npy')\n",
    "print(eps)\n",
    "vals = np.load(path + 'pgd.npy')\n",
    "print(np.mean(vals, axis=1))\n",
    "sem = np.std(vals, axis=1)/np.sqrt(np.shape(vals)[1])\n",
    "print(sem)"
   ]
  },
  {
   "cell_type": "code",
   "execution_count": 6,
   "metadata": {},
   "outputs": [
    {
     "name": "stdout",
     "output_type": "stream",
     "text": [
      "[0.00117647 0.00392157 0.01176471 0.03137255]\n",
      "[856.  832.5   1.5   0. ]\n",
      "[10.10940156  4.05431869  0.79843597  0.        ]\n"
     ]
    }
   ],
   "source": [
    "eps = np.load(path + 'greedy_wc_epsilons.npy')\n",
    "print(eps)\n",
    "vals = np.load(path + 'greedy_wc.npy')\n",
    "print(np.mean(vals, axis=1))\n",
    "sem = np.std(vals, axis=1)/np.sqrt(np.shape(vals)[1])\n",
    "print(sem)"
   ]
  },
  {
   "cell_type": "code",
   "execution_count": 7,
   "metadata": {},
   "outputs": [
    {
     "name": "stdout",
     "output_type": "stream",
     "text": [
      "[0.00117647 0.00392157 0.01176471 0.03137255]\n",
      "[0.99955922 0.99091493 0.         0.        ]\n",
      "[0.00015696 0.00174197 0.         0.        ]\n"
     ]
    }
   ],
   "source": [
    "eps = np.load(path + 'acr_epsilons.npy')\n",
    "print(eps)\n",
    "vals = np.load(path + 'acr.npy')\n",
    "print(np.mean(vals, axis=1))\n",
    "sem = np.std(vals, axis=1)/np.sqrt(np.shape(vals)[1])\n",
    "print(sem)"
   ]
  },
  {
   "cell_type": "code",
   "execution_count": 8,
   "metadata": {},
   "outputs": [
    {
     "name": "stdout",
     "output_type": "stream",
     "text": [
      "[0.01 0.02 0.05 0.1 ]\n",
      "[259.5 146.   54.   45. ]\n",
      "[21.18342512 15.03994681  6.5345237   6.38357267]\n"
     ]
    }
   ],
   "source": [
    "eps = np.load(path + 'action_pert_epsilons.npy')\n",
    "print(eps)\n",
    "vals = np.load(path + 'action_pert.npy')\n",
    "print(np.mean(vals, axis=1))\n",
    "sem = np.std(vals, axis=1)/np.sqrt(np.shape(vals)[1])\n",
    "print(sem)"
   ]
  },
  {
   "cell_type": "code",
   "execution_count": null,
   "metadata": {},
   "outputs": [],
   "source": []
  }
 ],
 "metadata": {
  "kernelspec": {
   "display_name": "Python 3",
   "language": "python",
   "name": "python3"
  },
  "language_info": {
   "codemirror_mode": {
    "name": "ipython",
    "version": 3
   },
   "file_extension": ".py",
   "mimetype": "text/x-python",
   "name": "python",
   "nbconvert_exporter": "python",
   "pygments_lexer": "ipython3",
   "version": "3.7.6"
  }
 },
 "nbformat": 4,
 "nbformat_minor": 4
}
